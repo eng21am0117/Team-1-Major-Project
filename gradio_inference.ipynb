{
 "cells": [
  {
   "cell_type": "code",
   "execution_count": 1,
   "id": "0be4dcf7-9d8f-41b6-9f45-521086066536",
   "metadata": {},
   "outputs": [
    {
     "name": "stdout",
     "output_type": "stream",
     "text": [
      "🦥 Unsloth: Will patch your computer to enable 2x faster free finetuning.\n",
      "Unsloth: Failed to patch Gemma3ForConditionalGeneration.\n",
      "🦥 Unsloth Zoo will now patch everything to make training faster!\n",
      "==((====))==  Unsloth 2025.3.19: Fast Mllama patching. Transformers: 4.51.3.\n",
      "   \\\\   /|    NVIDIA L40S. Num GPUs = 1. Max memory: 44.521 GB. Platform: Linux.\n",
      "O^O/ \\_/ \\    Torch: 2.4.1+cu124. CUDA: 8.9. CUDA Toolkit: 12.4. Triton: 3.0.0\n",
      "\\        /    Bfloat16 = TRUE. FA [Xformers = 0.0.28.post1. FA2 = True]\n",
      " \"-____-\"     Free license: http://github.com/unslothai/unsloth\n",
      "Unsloth: Fast downloading is enabled - ignore downloading bars which are red colored!\n",
      "Unsloth: QLoRA and full finetuning all not selected. Switching to 16bit LoRA.\n"
     ]
    },
    {
     "data": {
      "application/vnd.jupyter.widget-view+json": {
       "model_id": "a06a7a2eac00429bbe6034261a938be6",
       "version_major": 2,
       "version_minor": 0
      },
      "text/plain": [
       "Loading checkpoint shards:   0%|          | 0/5 [00:00<?, ?it/s]"
      ]
     },
     "metadata": {},
     "output_type": "display_data"
    }
   ],
   "source": [
    "import gradio as gr\n",
    "from unsloth import FastVisionModel\n",
    "from transformers import TextStreamer\n",
    "import torch\n",
    "\n",
    "# Load model and tokenizer\n",
    "model, tokenizer = FastVisionModel.from_pretrained(\n",
    "    model_name=\"Shriyans/Llama-11B-Rad-LORA\",\n",
    "    load_in_4bit=False,\n",
    ")\n",
    "FastVisionModel.for_inference(model)\n",
    "model = model.to(\"cuda\")\n",
    "\n"
   ]
  },
  {
   "cell_type": "code",
   "execution_count": 2,
   "id": "57b81a82-1686-4b72-84cc-72573061686d",
   "metadata": {},
   "outputs": [],
   "source": [
    "# Prediction function\n",
    "def describe_radiograph(image):\n",
    "    if image is None:\n",
    "        return \"Please upload an image.\"\n",
    "    \n",
    "    instruction = \"You are an expert radiographer. Describe accurately what you see in this image. Do not hallucinate and include only elementary information.\"\n",
    "    messages = [\n",
    "        {\"role\": \"user\", \"content\": [\n",
    "            {\"type\": \"image\"},\n",
    "            {\"type\": \"text\", \"text\": instruction}\n",
    "        ]}\n",
    "    ]\n",
    "    \n",
    "    input_text = tokenizer.apply_chat_template(messages, add_generation_prompt=True)\n",
    "    \n",
    "    inputs = tokenizer(\n",
    "        image,\n",
    "        input_text,\n",
    "        add_special_tokens=False,\n",
    "        return_tensors=\"pt\",\n",
    "    ).to(\"cuda\")\n",
    "\n",
    "    with torch.no_grad():\n",
    "        output = model.generate(\n",
    "            **inputs,\n",
    "            max_new_tokens=256,\n",
    "            use_cache=True,\n",
    "            temperature=0.8,\n",
    "            min_p=0.1\n",
    "        )\n",
    "    \n",
    "    decoded = tokenizer.decode(output[0], skip_special_tokens=True)\n",
    "\n",
    "    if \"assistant\" in decoded_text:\n",
    "        decoded_text = decoded_text.split(\"assistant\", 1)[-1].strip()\n",
    "\n",
    "    return decoded_text\n"
   ]
  },
  {
   "cell_type": "code",
   "execution_count": 7,
   "id": "32a3fe90-3e33-47c1-b39a-48b02e4cdaf5",
   "metadata": {},
   "outputs": [],
   "source": [
    "def build_demo():\n",
    "    with gr.Blocks(theme=gr.themes.Base(), css=\".gr-button {font-size: 16px;}\") as demo:\n",
    "        gr.Markdown(\n",
    "            \"\"\"\n",
    "            # 🦙 **Llama-Rad: Diagnosis Generator**\n",
    "            Upload a radiograph and let our AI model generate a diagnosis.\n",
    "            \"\"\",\n",
    "            elem_id=\"title\",\n",
    "        )\n",
    "\n",
    "        with gr.Row(equal_height=True):\n",
    "            with gr.Column(scale=1):\n",
    "                image_input = gr.Image(type=\"pil\", label=\"📤 Upload Radiograph\")\n",
    "\n",
    "            with gr.Column(scale=1):\n",
    "                output_text = gr.Textbox(\n",
    "                    label=\"📝 Model Prediction\",\n",
    "                    placeholder=\"The prediction will appear here...\",\n",
    "                    lines=12,\n",
    "                    show_copy_button=True,\n",
    "                )\n",
    "\n",
    "        with gr.Row():\n",
    "            run_button = gr.Button(\"🧠 Generate\", variant=\"primary\")\n",
    "            reset_button = gr.Button(\"🔄 Reset\", variant=\"secondary\")\n",
    "\n",
    "        # Button logic\n",
    "        run_button.click(fn=describe_radiograph, inputs=image_input, outputs=output_text)\n",
    "        reset_button.click(fn=lambda: (None, \"\"), inputs=None, outputs=[image_input, output_text])\n",
    "\n",
    "    return demo\n"
   ]
  },
  {
   "cell_type": "code",
   "execution_count": null,
   "id": "6a06bce3-db5f-423d-8a29-bd093a3b66ac",
   "metadata": {},
   "outputs": [],
   "source": [
    "if __name__ == \"__main__\":\n",
    "    demo = build_demo()\n",
    "    demo.launch(\n",
    "        server_name=\"0.0.0.0\",  # Make it accessible publicly on RunPod\n",
    "        server_port=7860,       # Default Gradio port\n",
    "        share=True              # Optional: exposes a public Gradio URL via ngrok\n",
    "    )"
   ]
  }
 ],
 "metadata": {
  "kernelspec": {
   "display_name": "Python 3 (ipykernel)",
   "language": "python",
   "name": "python3"
  },
  "language_info": {
   "codemirror_mode": {
    "name": "ipython",
    "version": 3
   },
   "file_extension": ".py",
   "mimetype": "text/x-python",
   "name": "python",
   "nbconvert_exporter": "python",
   "pygments_lexer": "ipython3",
   "version": "3.11.10"
  }
 },
 "nbformat": 4,
 "nbformat_minor": 5
}
